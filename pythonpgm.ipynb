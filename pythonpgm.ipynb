{
  "nbformat": 4,
  "nbformat_minor": 0,
  "metadata": {
    "colab": {
      "name": "pythonpgm.ipynb",
      "provenance": [],
      "collapsed_sections": [],
      "authorship_tag": "ABX9TyMqvhpkdmKJ+6IZ5B9bIHiu",
      "include_colab_link": true
    },
    "kernelspec": {
      "name": "python3",
      "display_name": "Python 3"
    }
  },
  "cells": [
    {
      "cell_type": "markdown",
      "metadata": {
        "id": "view-in-github",
        "colab_type": "text"
      },
      "source": [
        "<a href=\"https://colab.research.google.com/github/Arunsunny28180/python1/blob/main/pythonpgm.ipynb\" target=\"_parent\"><img src=\"https://colab.research.google.com/assets/colab-badge.svg\" alt=\"Open In Colab\"/></a>"
      ]
    },
    {
      "cell_type": "code",
      "metadata": {
        "colab": {
          "base_uri": "https://localhost:8080/"
        },
        "id": "OOzgvevcqGcI",
        "outputId": "a38e5f56-9208-4ce7-9381-aba8f0181e19"
      },
      "source": [
        "#2.leap year\r\n",
        "cyear=2021\r\n",
        "upp=int(input(\"enter a year:\"))\r\n",
        "if cyear>upp:\r\n",
        " print(\"please enter a greater year than 2021\")\r\n",
        "else: \r\n",
        " print(\"leap years:\")\r\n",
        " for year in range (cyear,upp+1):\r\n",
        "  if (0==year%4) and (0!=year%100) or (0==year%400):\r\n",
        "     print (year)\r\n",
        "\r\n"
      ],
      "execution_count": null,
      "outputs": [
        {
          "output_type": "stream",
          "text": [
            "enter a year:2032\n",
            "leap years:\n",
            "2024\n",
            "2028\n",
            "2032\n"
          ],
          "name": "stdout"
        }
      ]
    },
    {
      "cell_type": "code",
      "metadata": {
        "colab": {
          "base_uri": "https://localhost:8080/"
        },
        "id": "Gz3pJsNO7MCF",
        "outputId": "fa36feb2-b568-4949-f733-c62906748e35"
      },
      "source": [
        "#avg\r\n",
        "sum=0\r\n",
        "n=int(input(\"enter the number of elements:\"))\r\n",
        "for i in range (n):\r\n",
        "  a=int(input(\"enter the elements:\"))\r\n",
        "  sum=sum+a\r\n",
        "avg=sum/n\r\n",
        "print(\"average is:\",avg)  "
      ],
      "execution_count": null,
      "outputs": [
        {
          "output_type": "stream",
          "text": [
            "enter the number of elements:3\n",
            "enter the elements:1\n",
            "enter the elements:2\n",
            "enter the elements:4\n",
            "average is: 2.3333333333333335\n"
          ],
          "name": "stdout"
        }
      ]
    },
    {
      "cell_type": "code",
      "metadata": {
        "colab": {
          "base_uri": "https://localhost:8080/"
        },
        "id": "k-fgAHyHJnvX",
        "outputId": "8f0a728e-84a1-407a-d43d-3e09cfb197c8"
      },
      "source": [
        "list1=[10,20,30,40,50]\r\n",
        "list2=[40,50,60,70, ]\r\n",
        "print(len(list1))"
      ],
      "execution_count": null,
      "outputs": [
        {
          "output_type": "stream",
          "text": [
            "5\n"
          ],
          "name": "stdout"
        }
      ]
    },
    {
      "cell_type": "code",
      "metadata": {
        "colab": {
          "base_uri": "https://localhost:8080/"
        },
        "id": "9miNtuHDJq5a",
        "outputId": "bfa0cf4d-bb5d-4266-f1d1-5a71081710e9"
      },
      "source": [
        "#finding gcd\r\n",
        "import math\r\n",
        "a=int(input(\"enter a number:\"))\r\n",
        "b=int(input(\"enter a number:\"))\r\n",
        "print(\"greatest common divisor is: \",math.gcd(a,b))"
      ],
      "execution_count": null,
      "outputs": [
        {
          "output_type": "stream",
          "text": [
            "enter a number:15\n",
            "enter a number:10\n",
            "greatest common divisor is:  5\n"
          ],
          "name": "stdout"
        }
      ]
    },
    {
      "cell_type": "code",
      "metadata": {
        "id": "-wLRHgi5X6eo"
      },
      "source": [
        "\r\n"
      ],
      "execution_count": null,
      "outputs": []
    },
    {
      "cell_type": "code",
      "metadata": {
        "colab": {
          "base_uri": "https://localhost:8080/"
        },
        "id": "CpzrqIIxDMOm",
        "outputId": "3ef3c090-b918-4948-c948-14af15869313"
      },
      "source": [
        "#biggest of 3 numbers enterd\r\n",
        "num1=int(input(\"enter 1st number:\"))\r\n",
        "num2=int(input(\"enter 2nd number:\"))\r\n",
        "num3=int(input(\"enter 3rd number:\"))\r\n",
        "if (num1>num2 and num1>num3):\r\n",
        "  print(\"biggest is:\",num1)\r\n",
        "elif (num2>num1 and num2>num3):\r\n",
        "  print(\" biggest is:\",num2)\r\n",
        "else:\r\n",
        "  print(\" biggest is:\",num3)\r\n"
      ],
      "execution_count": null,
      "outputs": [
        {
          "output_type": "stream",
          "text": [
            "enter 1st number:25\n",
            "enter 2nd number:56\n",
            "enter 3rd number:47\n",
            " biggest is: 56\n"
          ],
          "name": "stdout"
        }
      ]
    },
    {
      "cell_type": "code",
      "metadata": {
        "colab": {
          "base_uri": "https://localhost:8080/"
        },
        "id": "giD1OAR2MGFH",
        "outputId": "2c600cbc-de6e-4c32-c711-5a3236dcfc42"
      },
      "source": [
        "#5.Prompt the user for a list of integers. For all values greater than 100, store ‘over’ instead.\r\n",
        "list=[]\r\n",
        "for i in range(6):\r\n",
        "    x=int(input(\"enter the number:\"))\r\n",
        "    if x<100:\r\n",
        "      list.append(x)\r\n",
        "    else:\r\n",
        "      list.append(\"over\")\r\n",
        "print(list)        "
      ],
      "execution_count": null,
      "outputs": [
        {
          "output_type": "stream",
          "text": [
            "enter the number:10\n",
            "enter the number:20\n",
            "enter the number:30\n",
            "enter the number:110\n",
            "enter the number:220\n",
            "enter the number:55\n",
            "[10, 20, 30, 'over', 'over', 55]\n"
          ],
          "name": "stdout"
        }
      ]
    },
    {
      "cell_type": "code",
      "metadata": {
        "colab": {
          "base_uri": "https://localhost:8080/"
        },
        "id": "yJGVZ_BkMT5t",
        "outputId": "7979a7ea-4af3-4bfc-ecd7-4da2c55e19eb"
      },
      "source": [
        "#removing even no.\r\n",
        "list1=[]\r\n",
        "list2=[]\r\n",
        "lim=int(input(\"enter a lim:\"))\r\n",
        "print(\"enter the numbers:\")\r\n",
        "for i in range(lim):\r\n",
        "  list1.append(int(input()))\r\n",
        "print(\"The list is:\",list1)\r\n",
        "list2.extend(list1)\r\n",
        "for i in list1:\r\n",
        "  if i%2==0:\r\n",
        "    list2.remove(i)\r\n",
        "print(\"after removing even numbers:\",list2)    \r\n",
        "\r\n"
      ],
      "execution_count": null,
      "outputs": [
        {
          "output_type": "stream",
          "text": [
            "enter a lim:6\n",
            "enter the numbers:\n",
            "1\n",
            "2\n",
            "3\n",
            "4\n",
            "5\n",
            "6\n",
            "list 1 is: [1, 2, 3, 4, 5, 6]\n",
            "after removing even numbers: [1, 3, 5]\n"
          ],
          "name": "stdout"
        }
      ]
    },
    {
      "cell_type": "code",
      "metadata": {
        "colab": {
          "base_uri": "https://localhost:8080/"
        },
        "id": "bsWER_YfWH4j",
        "outputId": "9894da35-b343-4437-9f4f-e6fffd903f61"
      },
      "source": [
        "#10.area of a circle\r\n",
        "r=float(input(\"enter the radius of circle:\"))\r\n",
        "p=3.14\r\n",
        "area=p*r*r\r\n",
        "print(\"area of the circle is:\",area)"
      ],
      "execution_count": null,
      "outputs": [
        {
          "output_type": "stream",
          "text": [
            "enter the radius of circle:3.5\n",
            "area of the circle is: 38.465\n"
          ],
          "name": "stdout"
        }
      ]
    },
    {
      "cell_type": "code",
      "metadata": {
        "colab": {
          "base_uri": "https://localhost:8080/"
        },
        "id": "Ia6cO8dFv4pY",
        "outputId": "ef051919-0434-470f-b251-c3c0f7c32b5d"
      },
      "source": [
        "#factorial of a number\r\n",
        "num=int(input(\"enter a number:\"))\r\n",
        "fact=1\r\n",
        "if num<0:\r\n",
        "  print (\"enter a positive number\")\r\n",
        "elif num==0:\r\n",
        "  print (\"the factorial of 0 is:1\")\r\n",
        "else:\r\n",
        "  for i in range(1,num+1):\r\n",
        "    fact=fact*i\r\n",
        "  print (\"the factorial of\",num,\"is:\",fact)  \r\n",
        "\r\n",
        "\r\n",
        " "
      ],
      "execution_count": null,
      "outputs": [
        {
          "output_type": "stream",
          "text": [
            "enter a number:5\n",
            "the factorial of 5 is: 120\n"
          ],
          "name": "stdout"
        }
      ]
    },
    {
      "cell_type": "code",
      "metadata": {
        "colab": {
          "base_uri": "https://localhost:8080/"
        },
        "id": "HhtClS-wNkre",
        "outputId": "8a47b8c5-6b01-4d7f-f422-57ae70af2004"
      },
      "source": [
        "#3. List comprehensions:\r\n",
        "\r\n",
        "#Generate positive list of numbers from a given list of integers \r\n",
        "\r\n",
        "numlist=[-10,2,-5,6,-5,7]\r\n",
        "poslist=[x for x in numlist if x>0]\r\n",
        "print(\"After removing -ve no.\",poslist)\r\n",
        "\r\n",
        "#Square of N numbers\r\n",
        "\r\n",
        "list=[]\r\n",
        "n=int(input(\"Enter the number of numbers:\"))\r\n",
        "print(\"Enter \",n,\"numbers:\")\r\n",
        "for x in range(n):\r\n",
        "  x=float(input())\r\n",
        "  list.append(x)\r\n",
        "print(list)\r\n",
        "sqlist=[x**2 for x in list]\r\n",
        "print(sqlist)\r\n",
        "\r\n",
        "#Form a list of vowels selected from a given word .\r\n",
        "\r\n",
        "vowels=['a','e','i','o','u']\r\n",
        "word=str(input(\"Enter a word: \"))\r\n",
        "vlist=[x for x in word if x in vowels]\r\n",
        "print(vlist)\r\n",
        "\r\n",
        "# List ordinal value of each element of a word\r\n",
        "\r\n",
        "ordword=str(input(\"Enter a word: \"))\r\n",
        "ordlist=[ord(x) for x in ordword]\r\n",
        "print(ordlist)"
      ],
      "execution_count": null,
      "outputs": [
        {
          "output_type": "stream",
          "text": [
            "After removing -ve no. [2, 6, 7]\n",
            "Enter the number of numbers:3\n",
            "Enter  3 numbers:\n",
            "4\n",
            "2\n",
            "6\n",
            "[4.0, 2.0, 6.0]\n",
            "[16.0, 4.0, 36.0]\n",
            "Enter a word: arun\n",
            "['a', 'u']\n",
            "Enter a word: santo\n",
            "[115, 97, 110, 116, 111]\n"
          ],
          "name": "stdout"
        }
      ]
    },
    {
      "cell_type": "code",
      "metadata": {
        "colab": {
          "base_uri": "https://localhost:8080/"
        },
        "id": "0O1NTjGpPSl4",
        "outputId": "8928337e-de07-4239-a1f3-aa644bb28b91"
      },
      "source": [
        "#7. Enter 2 lists of integers.\r\n",
        "\r\n",
        "list1=[2,3,4,5]\r\n",
        "list2=[1,2,4,8]\r\n",
        "list3=[]\r\n",
        "#Check (a) Whether list are of same length \r\n",
        "l1=len(list1)\r\n",
        "l2=len(list2)\r\n",
        "if (l1==l2):\r\n",
        "  print(\"Same length\")\r\n",
        "else:\r\n",
        "  print(\"length is not same\")\r\n",
        "#(b) whether list sums to same value\r\n",
        "sum1=sum(list1)\r\n",
        "sum2=sum(list2)\r\n",
        "if(sum1==sum2):\r\n",
        "  print(\"sum is same\")\r\n",
        "else:\r\n",
        "  print(\"sum is not same\")\r\n",
        "#(c) whether any value occur in both\r\n",
        "for x in list1:\r\n",
        "  if x in list2:\r\n",
        "    list3.append(x)\r\n",
        "print(\"values occour in both\",list3)"
      ],
      "execution_count": null,
      "outputs": [
        {
          "output_type": "stream",
          "text": [
            "Same length\n",
            "sum is not same\n",
            "values occour in both [2, 4]\n"
          ],
          "name": "stdout"
        }
      ]
    },
    {
      "cell_type": "code",
      "metadata": {
        "colab": {
          "base_uri": "https://localhost:8080/"
        },
        "id": "5Y2AeGQifoET",
        "outputId": "b73aa40f-6063-4ef4-f7aa-3aaeaa7e0346"
      },
      "source": [
        "#8. Get a string from an input string where all occurrences of first character replaced with ‘$’, except first character.\r\n",
        "\r\n",
        "txt=str(input(\"Enter a word:\"))\r\n",
        "txt1=txt\r\n",
        "frst=txt[0]\r\n",
        "txt=txt.replace(frst,\"$\")\r\n",
        "txt=frst+txt[1:]\r\n",
        "print(txt1,\"-->\",txt)"
      ],
      "execution_count": null,
      "outputs": [
        {
          "output_type": "stream",
          "text": [
            "Enter a word:santos\n",
            "santos --> santo$\n"
          ],
          "name": "stdout"
        }
      ]
    },
    {
      "cell_type": "code",
      "metadata": {
        "colab": {
          "base_uri": "https://localhost:8080/"
        },
        "id": "oZVKk_lNgDt-",
        "outputId": "21ff2cda-5a6e-429a-ec26-e88648a1a23f"
      },
      "source": [
        "#9. Create a string from given string where first and last characters exchanged.\r\n",
        "\r\n",
        "word=str(input(\"Enter a word:\"))\r\n",
        "copy=word\r\n",
        "word=word[-1:] + word[1:-1] + word[:1]\r\n",
        "print(copy,\"--\",word)"
      ],
      "execution_count": null,
      "outputs": [
        {
          "output_type": "stream",
          "text": [
            "Enter a word:santo\n",
            "santo -- oants\n"
          ],
          "name": "stdout"
        }
      ]
    },
    {
      "cell_type": "code",
      "metadata": {
        "colab": {
          "base_uri": "https://localhost:8080/"
        },
        "id": "I1af9jrTAWaw",
        "outputId": "3785b4e8-5440-4a06-e74c-f52d68ec2631"
      },
      "source": [
        "#4.count of words\r\n",
        "s=str(input(\"Enter line of text:\"))\r\n",
        "count=dict()\r\n",
        "words=s.split()\r\n",
        "for word in words:\r\n",
        "  if word in count:\r\n",
        "    count[word]+1\r\n",
        "  else:\r\n",
        "    count[word]=1\r\n",
        "print(count)  "
      ],
      "execution_count": null,
      "outputs": [
        {
          "output_type": "stream",
          "text": [
            "Enter line of text:arun sunny arun santo\n",
            "{'arun': 1, 'sunny': 1, 'santo': 1}\n"
          ],
          "name": "stdout"
        }
      ]
    }
  ]
}